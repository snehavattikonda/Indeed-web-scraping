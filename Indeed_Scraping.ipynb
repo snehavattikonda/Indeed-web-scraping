{
 "cells": [
  {
   "cell_type": "code",
   "execution_count": 6,
   "metadata": {},
   "outputs": [],
   "source": [
    "import requests\n",
    "from bs4 import BeautifulSoup"
   ]
  },
  {
   "cell_type": "code",
   "execution_count": 37,
   "metadata": {},
   "outputs": [],
   "source": [
    "def extract(page):\n",
    "    headers = {'User-Agent':'Mozilla/5.0 (Windows NT 10.0; Win64; x64) AppleWebKit/537.36 (KHTML, like Gecko) Chrome/95.0.4638.54 Safari/537.36'}\n",
    "    url = f'https://de.indeed.com/Jobs?q=Werkstudent+data+analytics&l=Hessen&start={page}'\n",
    "    r = requests.get(url,headers)\n",
    "    soup = BeautifulSoup(r.content, 'html.parser')\n",
    "    return soup"
   ]
  },
  {
   "cell_type": "code",
   "execution_count": 54,
   "metadata": {},
   "outputs": [],
   "source": [
    "def transform(soup):\n",
    "    divs = soup.find_all('div', class_ = 'kebabMenu')\n",
    "    for item in divs:\n",
    "        title = item.find('a')\n",
    "        print(title)\n",
    "    return"
   ]
  },
  {
   "cell_type": "code",
   "execution_count": 55,
   "metadata": {},
   "outputs": [
    {
     "name": "stdout",
     "output_type": "stream",
     "text": [
      "None\n",
      "None\n",
      "None\n",
      "None\n",
      "None\n",
      "None\n",
      "None\n",
      "None\n",
      "None\n",
      "None\n",
      "None\n",
      "None\n",
      "None\n",
      "None\n",
      "None\n"
     ]
    }
   ],
   "source": [
    "c= extract(0)\n",
    "transform(c)"
   ]
  },
  {
   "cell_type": "code",
   "execution_count": 2,
   "metadata": {},
   "outputs": [
    {
     "name": "stdout",
     "output_type": "stream",
     "text": [
      "Collecting wordcloud\n",
      "  Downloading https://files.pythonhosted.org/packages/a7/f0/f7384c323c1fc7149573455f9633ef063c7b4d85c64d419b711bbca9ed29/wordcloud-1.8.1-cp37-cp37m-win_amd64.whl (154kB)\n",
      "Requirement already satisfied: matplotlib in c:\\users\\bonthu\\anaconda3\\lib\\site-packages (from wordcloud) (3.1.3)\n",
      "Requirement already satisfied: numpy>=1.6.1 in c:\\users\\bonthu\\anaconda3\\lib\\site-packages (from wordcloud) (1.16.4)\n",
      "Requirement already satisfied: pillow in c:\\users\\bonthu\\anaconda3\\lib\\site-packages (from wordcloud) (6.1.0)\n",
      "Requirement already satisfied: pyparsing!=2.0.4,!=2.1.2,!=2.1.6,>=2.0.1 in c:\\users\\bonthu\\anaconda3\\lib\\site-packages (from matplotlib->wordcloud) (2.4.0)\n",
      "Requirement already satisfied: cycler>=0.10 in c:\\users\\bonthu\\anaconda3\\lib\\site-packages (from matplotlib->wordcloud) (0.10.0)\n",
      "Requirement already satisfied: kiwisolver>=1.0.1 in c:\\users\\bonthu\\anaconda3\\lib\\site-packages (from matplotlib->wordcloud) (1.1.0)\n",
      "Requirement already satisfied: python-dateutil>=2.1 in c:\\users\\bonthu\\anaconda3\\lib\\site-packages (from matplotlib->wordcloud) (2.8.0)\n",
      "Requirement already satisfied: six in c:\\users\\bonthu\\anaconda3\\lib\\site-packages (from cycler>=0.10->matplotlib->wordcloud) (1.12.0)\n",
      "Requirement already satisfied: setuptools in c:\\users\\bonthu\\anaconda3\\lib\\site-packages (from kiwisolver>=1.0.1->matplotlib->wordcloud) (41.0.1)\n",
      "Installing collected packages: wordcloud\n",
      "Successfully installed wordcloud-1.8.1\n",
      "Note: you may need to restart the kernel to use updated packages.\n"
     ]
    }
   ],
   "source": [
    " pip install wordcloud"
   ]
  },
  {
   "cell_type": "code",
   "execution_count": 3,
   "metadata": {},
   "outputs": [],
   "source": [
    "import pandas as pd\n",
    "import numpy as np\n",
    "import PIL              # for images\n",
    "import wordcloud        # ploting word cloud\n",
    "import requests         # grab web-page\n",
    "import pickle           # save file\n",
    "from bs4 import BeautifulSoup as bsopa  # parse web-page\n",
    "import datetime         # format date/time\n",
    "from collections import defaultdict\n",
    "import re               # regular expressions"
   ]
  },
  {
   "cell_type": "code",
   "execution_count": 9,
   "metadata": {},
   "outputs": [],
   "source": [
    "gg=[]\n",
    "for j in range(0,150,10):\n",
    "    position,location='data scientist','california'\n",
    "    y=requests.get('https://www.indeed.com/jobs?q={}&l={}&sort=date='.format(position,location)+str(j))\n",
    "\n",
    "    # y=requests.get('https://www.indeed.com/jobs?q=data+scientist&l=california&sort=date='+str(i))\n",
    "    sou=bsopa(y.text,'lxml')\n",
    "\n",
    "#     for ii in sou.find_all('div', {'class': 'row'}):\n",
    "    for ii in sou.find_all('div',{\"class\":\"jobsearch-SerpJobCard\"}):\n",
    "\n",
    "        job_title = ii.find('a', {'data-tn-element': 'jobTitle'})['title']\n",
    "        company_name = ii.find('span', {'class': 'company'}).text.strip()    \n",
    "        location=ii.find('span',{\"class\":\"location\"})\n",
    "        post_date = ii.find('span', attrs={'class': 'date'})\n",
    "        summary=ii.find('div',attrs={'class':'summary'})\n",
    "\n",
    "        if location:\n",
    "            location=location.text.strip()\n",
    "        else:\n",
    "            location=ii.find('div',{\"class\":\"location\"})\n",
    "            location=location.text.strip()\n",
    "\n",
    "        k=ii.find('h2', {'class':\"title\"})\n",
    "        p=k.find(href=True)\n",
    "        v=p['href']\n",
    "        f_=str(v).replace('&amp;','&') # links to iterate for qualification text\n",
    "        \n",
    "        datum = {'job_title': job_title,\n",
    "                    'company_name': company_name,\n",
    "                    'location': location,\n",
    "                    'summary':summary.text.strip(),\n",
    "                    'post_Date':post_date.text,\n",
    "                    'Qualification_link': f_}\n",
    "\n",
    "#         gg.append([location,job_title,company_name,post_date.text,summary.text.strip()\n",
    "#                   ,f_]) \n",
    "        gg.append(datum)"
   ]
  },
  {
   "cell_type": "code",
   "execution_count": 12,
   "metadata": {},
   "outputs": [
    {
     "data": {
      "text/plain": [
       "0"
      ]
     },
     "execution_count": 12,
     "metadata": {},
     "output_type": "execute_result"
    }
   ],
   "source": [
    "len(gg)\n",
    "#gg[0]"
   ]
  },
  {
   "cell_type": "code",
   "execution_count": 11,
   "metadata": {},
   "outputs": [
    {
     "ename": "IndexError",
     "evalue": "list index out of range",
     "output_type": "error",
     "traceback": [
      "\u001b[1;31m---------------------------------------------------------------------------\u001b[0m",
      "\u001b[1;31mIndexError\u001b[0m                                Traceback (most recent call last)",
      "\u001b[1;32m<ipython-input-11-bac10ece23ba>\u001b[0m in \u001b[0;36m<module>\u001b[1;34m\u001b[0m\n\u001b[0;32m      9\u001b[0m         \u001b[1;32mexcept\u001b[0m \u001b[0mAttributeError\u001b[0m\u001b[1;33m:\u001b[0m\u001b[1;33m\u001b[0m\u001b[1;33m\u001b[0m\u001b[0m\n\u001b[0;32m     10\u001b[0m             \u001b[0mhoop\u001b[0m\u001b[1;33m.\u001b[0m\u001b[0mappend\u001b[0m\u001b[1;33m(\u001b[0m\u001b[1;33m[\u001b[0m\u001b[0mi\u001b[0m\u001b[1;33m,\u001b[0m\u001b[1;34m''\u001b[0m\u001b[1;33m]\u001b[0m\u001b[1;33m)\u001b[0m\u001b[1;33m\u001b[0m\u001b[1;33m\u001b[0m\u001b[0m\n\u001b[1;32m---> 11\u001b[1;33m \u001b[0mhoop\u001b[0m\u001b[1;33m[\u001b[0m\u001b[1;36m0\u001b[0m\u001b[1;33m]\u001b[0m\u001b[1;33m\u001b[0m\u001b[1;33m\u001b[0m\u001b[0m\n\u001b[0m",
      "\u001b[1;31mIndexError\u001b[0m: list index out of range"
     ]
    }
   ],
   "source": [
    "# get all qualification page text: key=index, value=string of text for qualification\n",
    "hoop=[]\n",
    "for i in range(len(gg)):\n",
    "    op=requests.get('https://www.indeed.com'+gg[i]['Qualification_link'])\n",
    "    sou_=bsopa(op.text,'html.parser')\n",
    "    for ii in sou_.find('div',{'class':'jobsearch-jobDescriptionText'}):\n",
    "        try:\n",
    "            hoop.append([i,''.join(ii.text.strip())])\n",
    "        except AttributeError:\n",
    "            hoop.append([i,''])\n",
    "hoop[0]"
   ]
  },
  {
   "cell_type": "code",
   "execution_count": null,
   "metadata": {},
   "outputs": [],
   "source": []
  }
 ],
 "metadata": {
  "kernelspec": {
   "display_name": "Python 3",
   "language": "python",
   "name": "python3"
  },
  "language_info": {
   "codemirror_mode": {
    "name": "ipython",
    "version": 3
   },
   "file_extension": ".py",
   "mimetype": "text/x-python",
   "name": "python",
   "nbconvert_exporter": "python",
   "pygments_lexer": "ipython3",
   "version": "3.7.3"
  }
 },
 "nbformat": 4,
 "nbformat_minor": 2
}
